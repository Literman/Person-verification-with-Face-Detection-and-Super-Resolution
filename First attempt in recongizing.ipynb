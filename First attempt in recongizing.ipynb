{
 "cells": [
  {
   "cell_type": "code",
   "execution_count": 1,
   "metadata": {},
   "outputs": [],
   "source": [
    "import warnings\n",
    "warnings.filterwarnings('ignore')"
   ]
  },
  {
   "cell_type": "markdown",
   "metadata": {},
   "source": [
    "# Collecting pairs of person photos"
   ]
  },
  {
   "cell_type": "code",
   "execution_count": 2,
   "metadata": {},
   "outputs": [],
   "source": [
    "import os \n",
    "import pandas as pd"
   ]
  },
  {
   "cell_type": "code",
   "execution_count": null,
   "metadata": {},
   "outputs": [],
   "source": [
    "path = 'dataset/lfw_funneled/'"
   ]
  },
  {
   "cell_type": "code",
   "execution_count": null,
   "metadata": {},
   "outputs": [],
   "source": [
    "pairs = ''\n",
    "with open(f'{path}pairs.txt', 'r') as file:\n",
    "    pairs = file.read()"
   ]
  },
  {
   "cell_type": "code",
   "execution_count": null,
   "metadata": {},
   "outputs": [],
   "source": [
    "df = pd.DataFrame(list(map(lambda x: x.split('\\t'), pairs.split('\\n')[1:301])), columns=['name', 'pic1', 'pic2'])\n",
    "df.head()"
   ]
  },
  {
   "cell_type": "code",
   "execution_count": null,
   "metadata": {},
   "outputs": [],
   "source": [
    "for i in [1, 2]:\n",
    "    df[f'pic{i}'] = df[f'pic{i}'].apply(lambda x: x.zfill(4))\n",
    "    df[f'path{i}'] = str(path) + df['name'] + '/' + df['name'] + '_' + df[f'pic{i}'] + '.jpg'\n",
    "df.head()"
   ]
  },
  {
   "cell_type": "code",
   "execution_count": null,
   "metadata": {},
   "outputs": [],
   "source": [
    "df.to_csv('pairs.csv')"
   ]
  },
  {
   "cell_type": "markdown",
   "metadata": {},
   "source": [
    "# Adding scaled with Super-Resolution pictures"
   ]
  },
  {
   "cell_type": "code",
   "execution_count": 29,
   "metadata": {},
   "outputs": [
    {
     "data": {
      "text/html": [
       "<div>\n",
       "<style scoped>\n",
       "    .dataframe tbody tr th:only-of-type {\n",
       "        vertical-align: middle;\n",
       "    }\n",
       "\n",
       "    .dataframe tbody tr th {\n",
       "        vertical-align: top;\n",
       "    }\n",
       "\n",
       "    .dataframe thead th {\n",
       "        text-align: right;\n",
       "    }\n",
       "</style>\n",
       "<table border=\"1\" class=\"dataframe\">\n",
       "  <thead>\n",
       "    <tr style=\"text-align: right;\">\n",
       "      <th></th>\n",
       "      <th>name</th>\n",
       "      <th>pic1</th>\n",
       "      <th>pic2</th>\n",
       "      <th>path1</th>\n",
       "      <th>path2</th>\n",
       "      <th>recognized</th>\n",
       "      <th>path1_x2</th>\n",
       "      <th>path2_x2</th>\n",
       "    </tr>\n",
       "  </thead>\n",
       "  <tbody>\n",
       "    <tr>\n",
       "      <th>0</th>\n",
       "      <td>Abel_Pacheco</td>\n",
       "      <td>1</td>\n",
       "      <td>4</td>\n",
       "      <td>dataset/lfw_funneled/Abel_Pacheco/Abel_Pacheco...</td>\n",
       "      <td>dataset/lfw_funneled/Abel_Pacheco/Abel_Pacheco...</td>\n",
       "      <td>True</td>\n",
       "      <td>output/Abel_Pacheco_0001.jpg_result.jpg</td>\n",
       "      <td>output/Abel_Pacheco_0004.jpg_result.jpg</td>\n",
       "    </tr>\n",
       "    <tr>\n",
       "      <th>1</th>\n",
       "      <td>Akhmed_Zakayev</td>\n",
       "      <td>1</td>\n",
       "      <td>3</td>\n",
       "      <td>dataset/lfw_funneled/Akhmed_Zakayev/Akhmed_Zak...</td>\n",
       "      <td>dataset/lfw_funneled/Akhmed_Zakayev/Akhmed_Zak...</td>\n",
       "      <td>True</td>\n",
       "      <td>output/Akhmed_Zakayev_0001.jpg_result.jpg</td>\n",
       "      <td>output/Akhmed_Zakayev_0003.jpg_result.jpg</td>\n",
       "    </tr>\n",
       "    <tr>\n",
       "      <th>2</th>\n",
       "      <td>Akhmed_Zakayev</td>\n",
       "      <td>2</td>\n",
       "      <td>3</td>\n",
       "      <td>dataset/lfw_funneled/Akhmed_Zakayev/Akhmed_Zak...</td>\n",
       "      <td>dataset/lfw_funneled/Akhmed_Zakayev/Akhmed_Zak...</td>\n",
       "      <td>True</td>\n",
       "      <td>output/Akhmed_Zakayev_0002.jpg_result.jpg</td>\n",
       "      <td>output/Akhmed_Zakayev_0003.jpg_result.jpg</td>\n",
       "    </tr>\n",
       "    <tr>\n",
       "      <th>3</th>\n",
       "      <td>Amber_Tamblyn</td>\n",
       "      <td>1</td>\n",
       "      <td>2</td>\n",
       "      <td>dataset/lfw_funneled/Amber_Tamblyn/Amber_Tambl...</td>\n",
       "      <td>dataset/lfw_funneled/Amber_Tamblyn/Amber_Tambl...</td>\n",
       "      <td>True</td>\n",
       "      <td>output/Amber_Tamblyn_0001.jpg_result.jpg</td>\n",
       "      <td>output/Amber_Tamblyn_0002.jpg_result.jpg</td>\n",
       "    </tr>\n",
       "    <tr>\n",
       "      <th>4</th>\n",
       "      <td>Anders_Fogh_Rasmussen</td>\n",
       "      <td>1</td>\n",
       "      <td>3</td>\n",
       "      <td>dataset/lfw_funneled/Anders_Fogh_Rasmussen/And...</td>\n",
       "      <td>dataset/lfw_funneled/Anders_Fogh_Rasmussen/And...</td>\n",
       "      <td>True</td>\n",
       "      <td>output/Anders_Fogh_Rasmussen_0001.jpg_result.jpg</td>\n",
       "      <td>output/Anders_Fogh_Rasmussen_0003.jpg_result.jpg</td>\n",
       "    </tr>\n",
       "  </tbody>\n",
       "</table>\n",
       "</div>"
      ],
      "text/plain": [
       "                    name  pic1  pic2  \\\n",
       "0           Abel_Pacheco     1     4   \n",
       "1         Akhmed_Zakayev     1     3   \n",
       "2         Akhmed_Zakayev     2     3   \n",
       "3          Amber_Tamblyn     1     2   \n",
       "4  Anders_Fogh_Rasmussen     1     3   \n",
       "\n",
       "                                               path1  \\\n",
       "0  dataset/lfw_funneled/Abel_Pacheco/Abel_Pacheco...   \n",
       "1  dataset/lfw_funneled/Akhmed_Zakayev/Akhmed_Zak...   \n",
       "2  dataset/lfw_funneled/Akhmed_Zakayev/Akhmed_Zak...   \n",
       "3  dataset/lfw_funneled/Amber_Tamblyn/Amber_Tambl...   \n",
       "4  dataset/lfw_funneled/Anders_Fogh_Rasmussen/And...   \n",
       "\n",
       "                                               path2  recognized  \\\n",
       "0  dataset/lfw_funneled/Abel_Pacheco/Abel_Pacheco...        True   \n",
       "1  dataset/lfw_funneled/Akhmed_Zakayev/Akhmed_Zak...        True   \n",
       "2  dataset/lfw_funneled/Akhmed_Zakayev/Akhmed_Zak...        True   \n",
       "3  dataset/lfw_funneled/Amber_Tamblyn/Amber_Tambl...        True   \n",
       "4  dataset/lfw_funneled/Anders_Fogh_Rasmussen/And...        True   \n",
       "\n",
       "                                           path1_x2  \\\n",
       "0           output/Abel_Pacheco_0001.jpg_result.jpg   \n",
       "1         output/Akhmed_Zakayev_0001.jpg_result.jpg   \n",
       "2         output/Akhmed_Zakayev_0002.jpg_result.jpg   \n",
       "3          output/Amber_Tamblyn_0001.jpg_result.jpg   \n",
       "4  output/Anders_Fogh_Rasmussen_0001.jpg_result.jpg   \n",
       "\n",
       "                                           path2_x2  \n",
       "0           output/Abel_Pacheco_0004.jpg_result.jpg  \n",
       "1         output/Akhmed_Zakayev_0003.jpg_result.jpg  \n",
       "2         output/Akhmed_Zakayev_0003.jpg_result.jpg  \n",
       "3          output/Amber_Tamblyn_0002.jpg_result.jpg  \n",
       "4  output/Anders_Fogh_Rasmussen_0003.jpg_result.jpg  "
      ]
     },
     "execution_count": 29,
     "metadata": {},
     "output_type": "execute_result"
    }
   ],
   "source": [
    "df = pd.read_csv('pairs.csv', index_col=0)\n",
    "df.head()"
   ]
  },
  {
   "cell_type": "code",
   "execution_count": 5,
   "metadata": {},
   "outputs": [],
   "source": [
    "pics_to_scale = set(df['path1'].values) | set(df['path2'].values)"
   ]
  },
  {
   "cell_type": "code",
   "execution_count": null,
   "metadata": {
    "scrolled": true
   },
   "outputs": [],
   "source": [
    "%%time\n",
    "for pic in pics_to_scale[:]:\n",
    "    abc = f'--file={pic}'\n",
    "    %run sr.py {abc}"
   ]
  },
  {
   "cell_type": "code",
   "execution_count": 30,
   "metadata": {},
   "outputs": [],
   "source": [
    "for i in [1, 2]:\n",
    "    df[f'path{i}_x2'] = 'dataset/output/' + df[f'path{i}'].apply(lambda x: x.split('/')[-1][:-4]) + '_result.jpg'"
   ]
  },
  {
   "cell_type": "code",
   "execution_count": 31,
   "metadata": {},
   "outputs": [],
   "source": [
    "df.to_csv('pairs.csv')"
   ]
  },
  {
   "cell_type": "markdown",
   "metadata": {},
   "source": [
    "# Pairs recognition"
   ]
  },
  {
   "cell_type": "code",
   "execution_count": 7,
   "metadata": {},
   "outputs": [],
   "source": [
    "from recognizer import Recognizer\n",
    "from skimage.io import imread\n",
    "\n",
    "THRESHOLD = 0.9"
   ]
  },
  {
   "cell_type": "code",
   "execution_count": 32,
   "metadata": {},
   "outputs": [
    {
     "data": {
      "text/html": [
       "<div>\n",
       "<style scoped>\n",
       "    .dataframe tbody tr th:only-of-type {\n",
       "        vertical-align: middle;\n",
       "    }\n",
       "\n",
       "    .dataframe tbody tr th {\n",
       "        vertical-align: top;\n",
       "    }\n",
       "\n",
       "    .dataframe thead th {\n",
       "        text-align: right;\n",
       "    }\n",
       "</style>\n",
       "<table border=\"1\" class=\"dataframe\">\n",
       "  <thead>\n",
       "    <tr style=\"text-align: right;\">\n",
       "      <th></th>\n",
       "      <th>name</th>\n",
       "      <th>pic1</th>\n",
       "      <th>pic2</th>\n",
       "      <th>path1</th>\n",
       "      <th>path2</th>\n",
       "      <th>recognized</th>\n",
       "      <th>path1_x2</th>\n",
       "      <th>path2_x2</th>\n",
       "    </tr>\n",
       "  </thead>\n",
       "  <tbody>\n",
       "    <tr>\n",
       "      <th>0</th>\n",
       "      <td>Abel_Pacheco</td>\n",
       "      <td>1</td>\n",
       "      <td>4</td>\n",
       "      <td>dataset/lfw_funneled/Abel_Pacheco/Abel_Pacheco...</td>\n",
       "      <td>dataset/lfw_funneled/Abel_Pacheco/Abel_Pacheco...</td>\n",
       "      <td>True</td>\n",
       "      <td>output/Abel_Pacheco_0001_result.jpg</td>\n",
       "      <td>output/Abel_Pacheco_0004_result.jpg</td>\n",
       "    </tr>\n",
       "    <tr>\n",
       "      <th>1</th>\n",
       "      <td>Akhmed_Zakayev</td>\n",
       "      <td>1</td>\n",
       "      <td>3</td>\n",
       "      <td>dataset/lfw_funneled/Akhmed_Zakayev/Akhmed_Zak...</td>\n",
       "      <td>dataset/lfw_funneled/Akhmed_Zakayev/Akhmed_Zak...</td>\n",
       "      <td>True</td>\n",
       "      <td>output/Akhmed_Zakayev_0001_result.jpg</td>\n",
       "      <td>output/Akhmed_Zakayev_0003_result.jpg</td>\n",
       "    </tr>\n",
       "    <tr>\n",
       "      <th>2</th>\n",
       "      <td>Akhmed_Zakayev</td>\n",
       "      <td>2</td>\n",
       "      <td>3</td>\n",
       "      <td>dataset/lfw_funneled/Akhmed_Zakayev/Akhmed_Zak...</td>\n",
       "      <td>dataset/lfw_funneled/Akhmed_Zakayev/Akhmed_Zak...</td>\n",
       "      <td>True</td>\n",
       "      <td>output/Akhmed_Zakayev_0002_result.jpg</td>\n",
       "      <td>output/Akhmed_Zakayev_0003_result.jpg</td>\n",
       "    </tr>\n",
       "    <tr>\n",
       "      <th>3</th>\n",
       "      <td>Amber_Tamblyn</td>\n",
       "      <td>1</td>\n",
       "      <td>2</td>\n",
       "      <td>dataset/lfw_funneled/Amber_Tamblyn/Amber_Tambl...</td>\n",
       "      <td>dataset/lfw_funneled/Amber_Tamblyn/Amber_Tambl...</td>\n",
       "      <td>True</td>\n",
       "      <td>output/Amber_Tamblyn_0001_result.jpg</td>\n",
       "      <td>output/Amber_Tamblyn_0002_result.jpg</td>\n",
       "    </tr>\n",
       "    <tr>\n",
       "      <th>4</th>\n",
       "      <td>Anders_Fogh_Rasmussen</td>\n",
       "      <td>1</td>\n",
       "      <td>3</td>\n",
       "      <td>dataset/lfw_funneled/Anders_Fogh_Rasmussen/And...</td>\n",
       "      <td>dataset/lfw_funneled/Anders_Fogh_Rasmussen/And...</td>\n",
       "      <td>True</td>\n",
       "      <td>output/Anders_Fogh_Rasmussen_0001_result.jpg</td>\n",
       "      <td>output/Anders_Fogh_Rasmussen_0003_result.jpg</td>\n",
       "    </tr>\n",
       "  </tbody>\n",
       "</table>\n",
       "</div>"
      ],
      "text/plain": [
       "                    name  pic1  pic2  \\\n",
       "0           Abel_Pacheco     1     4   \n",
       "1         Akhmed_Zakayev     1     3   \n",
       "2         Akhmed_Zakayev     2     3   \n",
       "3          Amber_Tamblyn     1     2   \n",
       "4  Anders_Fogh_Rasmussen     1     3   \n",
       "\n",
       "                                               path1  \\\n",
       "0  dataset/lfw_funneled/Abel_Pacheco/Abel_Pacheco...   \n",
       "1  dataset/lfw_funneled/Akhmed_Zakayev/Akhmed_Zak...   \n",
       "2  dataset/lfw_funneled/Akhmed_Zakayev/Akhmed_Zak...   \n",
       "3  dataset/lfw_funneled/Amber_Tamblyn/Amber_Tambl...   \n",
       "4  dataset/lfw_funneled/Anders_Fogh_Rasmussen/And...   \n",
       "\n",
       "                                               path2  recognized  \\\n",
       "0  dataset/lfw_funneled/Abel_Pacheco/Abel_Pacheco...        True   \n",
       "1  dataset/lfw_funneled/Akhmed_Zakayev/Akhmed_Zak...        True   \n",
       "2  dataset/lfw_funneled/Akhmed_Zakayev/Akhmed_Zak...        True   \n",
       "3  dataset/lfw_funneled/Amber_Tamblyn/Amber_Tambl...        True   \n",
       "4  dataset/lfw_funneled/Anders_Fogh_Rasmussen/And...        True   \n",
       "\n",
       "                                       path1_x2  \\\n",
       "0           output/Abel_Pacheco_0001_result.jpg   \n",
       "1         output/Akhmed_Zakayev_0001_result.jpg   \n",
       "2         output/Akhmed_Zakayev_0002_result.jpg   \n",
       "3          output/Amber_Tamblyn_0001_result.jpg   \n",
       "4  output/Anders_Fogh_Rasmussen_0001_result.jpg   \n",
       "\n",
       "                                       path2_x2  \n",
       "0           output/Abel_Pacheco_0004_result.jpg  \n",
       "1         output/Akhmed_Zakayev_0003_result.jpg  \n",
       "2         output/Akhmed_Zakayev_0003_result.jpg  \n",
       "3          output/Amber_Tamblyn_0002_result.jpg  \n",
       "4  output/Anders_Fogh_Rasmussen_0003_result.jpg  "
      ]
     },
     "execution_count": 32,
     "metadata": {},
     "output_type": "execute_result"
    }
   ],
   "source": [
    "df = pd.read_csv('pairs.csv', index_col=0)\n",
    "df.head()"
   ]
  },
  {
   "cell_type": "code",
   "execution_count": 9,
   "metadata": {},
   "outputs": [
    {
     "name": "stdout",
     "output_type": "stream",
     "text": [
      "WARNING:tensorflow:From C:\\Users\\Nikita\\AppData\\Roaming\\Python\\Python36\\site-packages\\tensorflow\\python\\training\\queue_runner_impl.py:391: QueueRunner.__init__ (from tensorflow.python.training.queue_runner_impl) is deprecated and will be removed in a future version.\n",
      "Instructions for updating:\n",
      "To construct input pipelines, use the `tf.data` module.\n",
      "INFO:tensorflow:Restoring parameters from ./facenet_models/facenet/model-20180408-102900.ckpt-90\n"
     ]
    }
   ],
   "source": [
    "recognizer = Recognizer()"
   ]
  },
  {
   "cell_type": "code",
   "execution_count": 14,
   "metadata": {},
   "outputs": [],
   "source": [
    "def recongize(row):\n",
    "    photo1 = imread(row['path1'])\n",
    "    photo2 = imread(row['path2'])\n",
    "    similarity = recognizer.get_best_similarity(photo1, photo2)\n",
    "    return similarity < THRESHOLD"
   ]
  },
  {
   "cell_type": "code",
   "execution_count": 15,
   "metadata": {
    "scrolled": true
   },
   "outputs": [
    {
     "name": "stdout",
     "output_type": "stream",
     "text": [
      "Wall time: 1min 27s\n"
     ]
    }
   ],
   "source": [
    "%%time\n",
    "df['recognized'] = df[['path1', 'path2']].apply(recongize, axis=1)"
   ]
  },
  {
   "cell_type": "code",
   "execution_count": 33,
   "metadata": {},
   "outputs": [],
   "source": [
    "def recongize_x2(row):\n",
    "    photo1 = imread(row['path1_x2'])\n",
    "    photo2 = imread(row['path2_x2'])\n",
    "    similarity = recognizer.get_best_similarity(photo1, photo2)\n",
    "    return similarity < THRESHOLD"
   ]
  },
  {
   "cell_type": "code",
   "execution_count": 34,
   "metadata": {},
   "outputs": [
    {
     "name": "stdout",
     "output_type": "stream",
     "text": [
      "Wall time: 3min 17s\n"
     ]
    }
   ],
   "source": [
    "%%time\n",
    "df['recognized_x2'] = df[['path1_x2', 'path2_x2']].apply(recongize_x2, axis=1)"
   ]
  },
  {
   "cell_type": "code",
   "execution_count": 35,
   "metadata": {},
   "outputs": [
    {
     "data": {
      "text/html": [
       "<div>\n",
       "<style scoped>\n",
       "    .dataframe tbody tr th:only-of-type {\n",
       "        vertical-align: middle;\n",
       "    }\n",
       "\n",
       "    .dataframe tbody tr th {\n",
       "        vertical-align: top;\n",
       "    }\n",
       "\n",
       "    .dataframe thead th {\n",
       "        text-align: right;\n",
       "    }\n",
       "</style>\n",
       "<table border=\"1\" class=\"dataframe\">\n",
       "  <thead>\n",
       "    <tr style=\"text-align: right;\">\n",
       "      <th></th>\n",
       "      <th>name</th>\n",
       "      <th>pic1</th>\n",
       "      <th>pic2</th>\n",
       "      <th>path1</th>\n",
       "      <th>path2</th>\n",
       "      <th>recognized</th>\n",
       "      <th>path1_x2</th>\n",
       "      <th>path2_x2</th>\n",
       "      <th>recognized_x2</th>\n",
       "    </tr>\n",
       "  </thead>\n",
       "  <tbody>\n",
       "    <tr>\n",
       "      <th>0</th>\n",
       "      <td>Abel_Pacheco</td>\n",
       "      <td>1</td>\n",
       "      <td>4</td>\n",
       "      <td>dataset/lfw_funneled/Abel_Pacheco/Abel_Pacheco...</td>\n",
       "      <td>dataset/lfw_funneled/Abel_Pacheco/Abel_Pacheco...</td>\n",
       "      <td>True</td>\n",
       "      <td>output/Abel_Pacheco_0001_result.jpg</td>\n",
       "      <td>output/Abel_Pacheco_0004_result.jpg</td>\n",
       "      <td>True</td>\n",
       "    </tr>\n",
       "    <tr>\n",
       "      <th>1</th>\n",
       "      <td>Akhmed_Zakayev</td>\n",
       "      <td>1</td>\n",
       "      <td>3</td>\n",
       "      <td>dataset/lfw_funneled/Akhmed_Zakayev/Akhmed_Zak...</td>\n",
       "      <td>dataset/lfw_funneled/Akhmed_Zakayev/Akhmed_Zak...</td>\n",
       "      <td>True</td>\n",
       "      <td>output/Akhmed_Zakayev_0001_result.jpg</td>\n",
       "      <td>output/Akhmed_Zakayev_0003_result.jpg</td>\n",
       "      <td>True</td>\n",
       "    </tr>\n",
       "    <tr>\n",
       "      <th>2</th>\n",
       "      <td>Akhmed_Zakayev</td>\n",
       "      <td>2</td>\n",
       "      <td>3</td>\n",
       "      <td>dataset/lfw_funneled/Akhmed_Zakayev/Akhmed_Zak...</td>\n",
       "      <td>dataset/lfw_funneled/Akhmed_Zakayev/Akhmed_Zak...</td>\n",
       "      <td>True</td>\n",
       "      <td>output/Akhmed_Zakayev_0002_result.jpg</td>\n",
       "      <td>output/Akhmed_Zakayev_0003_result.jpg</td>\n",
       "      <td>True</td>\n",
       "    </tr>\n",
       "    <tr>\n",
       "      <th>3</th>\n",
       "      <td>Amber_Tamblyn</td>\n",
       "      <td>1</td>\n",
       "      <td>2</td>\n",
       "      <td>dataset/lfw_funneled/Amber_Tamblyn/Amber_Tambl...</td>\n",
       "      <td>dataset/lfw_funneled/Amber_Tamblyn/Amber_Tambl...</td>\n",
       "      <td>True</td>\n",
       "      <td>output/Amber_Tamblyn_0001_result.jpg</td>\n",
       "      <td>output/Amber_Tamblyn_0002_result.jpg</td>\n",
       "      <td>True</td>\n",
       "    </tr>\n",
       "    <tr>\n",
       "      <th>4</th>\n",
       "      <td>Anders_Fogh_Rasmussen</td>\n",
       "      <td>1</td>\n",
       "      <td>3</td>\n",
       "      <td>dataset/lfw_funneled/Anders_Fogh_Rasmussen/And...</td>\n",
       "      <td>dataset/lfw_funneled/Anders_Fogh_Rasmussen/And...</td>\n",
       "      <td>True</td>\n",
       "      <td>output/Anders_Fogh_Rasmussen_0001_result.jpg</td>\n",
       "      <td>output/Anders_Fogh_Rasmussen_0003_result.jpg</td>\n",
       "      <td>True</td>\n",
       "    </tr>\n",
       "  </tbody>\n",
       "</table>\n",
       "</div>"
      ],
      "text/plain": [
       "                    name  pic1  pic2  \\\n",
       "0           Abel_Pacheco     1     4   \n",
       "1         Akhmed_Zakayev     1     3   \n",
       "2         Akhmed_Zakayev     2     3   \n",
       "3          Amber_Tamblyn     1     2   \n",
       "4  Anders_Fogh_Rasmussen     1     3   \n",
       "\n",
       "                                               path1  \\\n",
       "0  dataset/lfw_funneled/Abel_Pacheco/Abel_Pacheco...   \n",
       "1  dataset/lfw_funneled/Akhmed_Zakayev/Akhmed_Zak...   \n",
       "2  dataset/lfw_funneled/Akhmed_Zakayev/Akhmed_Zak...   \n",
       "3  dataset/lfw_funneled/Amber_Tamblyn/Amber_Tambl...   \n",
       "4  dataset/lfw_funneled/Anders_Fogh_Rasmussen/And...   \n",
       "\n",
       "                                               path2  recognized  \\\n",
       "0  dataset/lfw_funneled/Abel_Pacheco/Abel_Pacheco...        True   \n",
       "1  dataset/lfw_funneled/Akhmed_Zakayev/Akhmed_Zak...        True   \n",
       "2  dataset/lfw_funneled/Akhmed_Zakayev/Akhmed_Zak...        True   \n",
       "3  dataset/lfw_funneled/Amber_Tamblyn/Amber_Tambl...        True   \n",
       "4  dataset/lfw_funneled/Anders_Fogh_Rasmussen/And...        True   \n",
       "\n",
       "                                       path1_x2  \\\n",
       "0           output/Abel_Pacheco_0001_result.jpg   \n",
       "1         output/Akhmed_Zakayev_0001_result.jpg   \n",
       "2         output/Akhmed_Zakayev_0002_result.jpg   \n",
       "3          output/Amber_Tamblyn_0001_result.jpg   \n",
       "4  output/Anders_Fogh_Rasmussen_0001_result.jpg   \n",
       "\n",
       "                                       path2_x2  recognized_x2  \n",
       "0           output/Abel_Pacheco_0004_result.jpg           True  \n",
       "1         output/Akhmed_Zakayev_0003_result.jpg           True  \n",
       "2         output/Akhmed_Zakayev_0003_result.jpg           True  \n",
       "3          output/Amber_Tamblyn_0002_result.jpg           True  \n",
       "4  output/Anders_Fogh_Rasmussen_0003_result.jpg           True  "
      ]
     },
     "execution_count": 35,
     "metadata": {},
     "output_type": "execute_result"
    }
   ],
   "source": [
    "df.head()"
   ]
  },
  {
   "cell_type": "code",
   "execution_count": 36,
   "metadata": {},
   "outputs": [
    {
     "data": {
      "text/plain": [
       "True     246\n",
       "False     54\n",
       "Name: recognized, dtype: int64"
      ]
     },
     "execution_count": 36,
     "metadata": {},
     "output_type": "execute_result"
    }
   ],
   "source": [
    "df['recognized'].value_counts()"
   ]
  },
  {
   "cell_type": "code",
   "execution_count": 37,
   "metadata": {},
   "outputs": [
    {
     "data": {
      "text/plain": [
       "True     253\n",
       "False     47\n",
       "Name: recognized_x2, dtype: int64"
      ]
     },
     "execution_count": 37,
     "metadata": {},
     "output_type": "execute_result"
    }
   ],
   "source": [
    "df['recognized_x2'].value_counts()"
   ]
  },
  {
   "cell_type": "code",
   "execution_count": 38,
   "metadata": {},
   "outputs": [],
   "source": [
    "df.to_csv('pairs.csv')"
   ]
  },
  {
   "cell_type": "markdown",
   "metadata": {},
   "source": [
    "# Evaluating results"
   ]
  },
  {
   "cell_type": "code",
   "execution_count": 3,
   "metadata": {},
   "outputs": [
    {
     "data": {
      "text/html": [
       "<div>\n",
       "<style scoped>\n",
       "    .dataframe tbody tr th:only-of-type {\n",
       "        vertical-align: middle;\n",
       "    }\n",
       "\n",
       "    .dataframe tbody tr th {\n",
       "        vertical-align: top;\n",
       "    }\n",
       "\n",
       "    .dataframe thead th {\n",
       "        text-align: right;\n",
       "    }\n",
       "</style>\n",
       "<table border=\"1\" class=\"dataframe\">\n",
       "  <thead>\n",
       "    <tr style=\"text-align: right;\">\n",
       "      <th></th>\n",
       "      <th>name</th>\n",
       "      <th>pic1</th>\n",
       "      <th>pic2</th>\n",
       "      <th>path1</th>\n",
       "      <th>path2</th>\n",
       "      <th>recognized</th>\n",
       "      <th>path1_x2</th>\n",
       "      <th>path2_x2</th>\n",
       "      <th>recognized_x2</th>\n",
       "    </tr>\n",
       "  </thead>\n",
       "  <tbody>\n",
       "    <tr>\n",
       "      <th>0</th>\n",
       "      <td>Abel_Pacheco</td>\n",
       "      <td>1</td>\n",
       "      <td>4</td>\n",
       "      <td>dataset/lfw_funneled/Abel_Pacheco/Abel_Pacheco...</td>\n",
       "      <td>dataset/lfw_funneled/Abel_Pacheco/Abel_Pacheco...</td>\n",
       "      <td>True</td>\n",
       "      <td>output/Abel_Pacheco_0001_result.jpg</td>\n",
       "      <td>output/Abel_Pacheco_0004_result.jpg</td>\n",
       "      <td>True</td>\n",
       "    </tr>\n",
       "    <tr>\n",
       "      <th>1</th>\n",
       "      <td>Akhmed_Zakayev</td>\n",
       "      <td>1</td>\n",
       "      <td>3</td>\n",
       "      <td>dataset/lfw_funneled/Akhmed_Zakayev/Akhmed_Zak...</td>\n",
       "      <td>dataset/lfw_funneled/Akhmed_Zakayev/Akhmed_Zak...</td>\n",
       "      <td>True</td>\n",
       "      <td>output/Akhmed_Zakayev_0001_result.jpg</td>\n",
       "      <td>output/Akhmed_Zakayev_0003_result.jpg</td>\n",
       "      <td>True</td>\n",
       "    </tr>\n",
       "    <tr>\n",
       "      <th>2</th>\n",
       "      <td>Akhmed_Zakayev</td>\n",
       "      <td>2</td>\n",
       "      <td>3</td>\n",
       "      <td>dataset/lfw_funneled/Akhmed_Zakayev/Akhmed_Zak...</td>\n",
       "      <td>dataset/lfw_funneled/Akhmed_Zakayev/Akhmed_Zak...</td>\n",
       "      <td>True</td>\n",
       "      <td>output/Akhmed_Zakayev_0002_result.jpg</td>\n",
       "      <td>output/Akhmed_Zakayev_0003_result.jpg</td>\n",
       "      <td>True</td>\n",
       "    </tr>\n",
       "    <tr>\n",
       "      <th>3</th>\n",
       "      <td>Amber_Tamblyn</td>\n",
       "      <td>1</td>\n",
       "      <td>2</td>\n",
       "      <td>dataset/lfw_funneled/Amber_Tamblyn/Amber_Tambl...</td>\n",
       "      <td>dataset/lfw_funneled/Amber_Tamblyn/Amber_Tambl...</td>\n",
       "      <td>True</td>\n",
       "      <td>output/Amber_Tamblyn_0001_result.jpg</td>\n",
       "      <td>output/Amber_Tamblyn_0002_result.jpg</td>\n",
       "      <td>True</td>\n",
       "    </tr>\n",
       "    <tr>\n",
       "      <th>4</th>\n",
       "      <td>Anders_Fogh_Rasmussen</td>\n",
       "      <td>1</td>\n",
       "      <td>3</td>\n",
       "      <td>dataset/lfw_funneled/Anders_Fogh_Rasmussen/And...</td>\n",
       "      <td>dataset/lfw_funneled/Anders_Fogh_Rasmussen/And...</td>\n",
       "      <td>True</td>\n",
       "      <td>output/Anders_Fogh_Rasmussen_0001_result.jpg</td>\n",
       "      <td>output/Anders_Fogh_Rasmussen_0003_result.jpg</td>\n",
       "      <td>True</td>\n",
       "    </tr>\n",
       "  </tbody>\n",
       "</table>\n",
       "</div>"
      ],
      "text/plain": [
       "                    name  pic1  pic2  \\\n",
       "0           Abel_Pacheco     1     4   \n",
       "1         Akhmed_Zakayev     1     3   \n",
       "2         Akhmed_Zakayev     2     3   \n",
       "3          Amber_Tamblyn     1     2   \n",
       "4  Anders_Fogh_Rasmussen     1     3   \n",
       "\n",
       "                                               path1  \\\n",
       "0  dataset/lfw_funneled/Abel_Pacheco/Abel_Pacheco...   \n",
       "1  dataset/lfw_funneled/Akhmed_Zakayev/Akhmed_Zak...   \n",
       "2  dataset/lfw_funneled/Akhmed_Zakayev/Akhmed_Zak...   \n",
       "3  dataset/lfw_funneled/Amber_Tamblyn/Amber_Tambl...   \n",
       "4  dataset/lfw_funneled/Anders_Fogh_Rasmussen/And...   \n",
       "\n",
       "                                               path2  recognized  \\\n",
       "0  dataset/lfw_funneled/Abel_Pacheco/Abel_Pacheco...        True   \n",
       "1  dataset/lfw_funneled/Akhmed_Zakayev/Akhmed_Zak...        True   \n",
       "2  dataset/lfw_funneled/Akhmed_Zakayev/Akhmed_Zak...        True   \n",
       "3  dataset/lfw_funneled/Amber_Tamblyn/Amber_Tambl...        True   \n",
       "4  dataset/lfw_funneled/Anders_Fogh_Rasmussen/And...        True   \n",
       "\n",
       "                                       path1_x2  \\\n",
       "0           output/Abel_Pacheco_0001_result.jpg   \n",
       "1         output/Akhmed_Zakayev_0001_result.jpg   \n",
       "2         output/Akhmed_Zakayev_0002_result.jpg   \n",
       "3          output/Amber_Tamblyn_0001_result.jpg   \n",
       "4  output/Anders_Fogh_Rasmussen_0001_result.jpg   \n",
       "\n",
       "                                       path2_x2  recognized_x2  \n",
       "0           output/Abel_Pacheco_0004_result.jpg           True  \n",
       "1         output/Akhmed_Zakayev_0003_result.jpg           True  \n",
       "2         output/Akhmed_Zakayev_0003_result.jpg           True  \n",
       "3          output/Amber_Tamblyn_0002_result.jpg           True  \n",
       "4  output/Anders_Fogh_Rasmussen_0003_result.jpg           True  "
      ]
     },
     "execution_count": 3,
     "metadata": {},
     "output_type": "execute_result"
    }
   ],
   "source": [
    "df = pd.read_csv('pairs.csv', index_col=0)\n",
    "df.head()"
   ]
  },
  {
   "cell_type": "code",
   "execution_count": 8,
   "metadata": {},
   "outputs": [
    {
     "data": {
      "text/plain": [
       "235"
      ]
     },
     "execution_count": 8,
     "metadata": {},
     "output_type": "execute_result"
    }
   ],
   "source": [
    "df[(df['recognized'] == True) & (df['recognized_x2'] == True)].shape[0]"
   ]
  },
  {
   "cell_type": "code",
   "execution_count": 9,
   "metadata": {},
   "outputs": [
    {
     "data": {
      "text/plain": [
       "18"
      ]
     },
     "execution_count": 9,
     "metadata": {},
     "output_type": "execute_result"
    }
   ],
   "source": [
    "df[(df['recognized'] == False) & (df['recognized_x2'] == True)].shape[0]"
   ]
  },
  {
   "cell_type": "code",
   "execution_count": 10,
   "metadata": {},
   "outputs": [
    {
     "data": {
      "text/plain": [
       "11"
      ]
     },
     "execution_count": 10,
     "metadata": {},
     "output_type": "execute_result"
    }
   ],
   "source": [
    "df[(df['recognized'] == True) & (df['recognized_x2'] == False)].shape[0]"
   ]
  },
  {
   "cell_type": "code",
   "execution_count": 11,
   "metadata": {},
   "outputs": [
    {
     "data": {
      "text/plain": [
       "36"
      ]
     },
     "execution_count": 11,
     "metadata": {},
     "output_type": "execute_result"
    }
   ],
   "source": [
    "df[(df['recognized'] == False) & (df['recognized_x2'] == False)].shape[0]"
   ]
  },
  {
   "cell_type": "code",
   "execution_count": null,
   "metadata": {},
   "outputs": [],
   "source": []
  }
 ],
 "metadata": {
  "kernelspec": {
   "display_name": "Python 3",
   "language": "python",
   "name": "python3"
  },
  "language_info": {
   "codemirror_mode": {
    "name": "ipython",
    "version": 3
   },
   "file_extension": ".py",
   "mimetype": "text/x-python",
   "name": "python",
   "nbconvert_exporter": "python",
   "pygments_lexer": "ipython3",
   "version": "3.6.5"
  }
 },
 "nbformat": 4,
 "nbformat_minor": 2
}
