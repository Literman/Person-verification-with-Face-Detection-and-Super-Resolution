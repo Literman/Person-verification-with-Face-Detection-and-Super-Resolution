{
 "cells": [
  {
   "cell_type": "code",
   "execution_count": 1,
   "metadata": {},
   "outputs": [],
   "source": [
    "import os \n",
    "import pandas as pd\n",
    "\n",
    "import warnings\n",
    "warnings.filterwarnings('ignore')"
   ]
  },
  {
   "cell_type": "markdown",
   "metadata": {},
   "source": [
    "# Collecting pairs of person photos"
   ]
  },
  {
   "cell_type": "code",
   "execution_count": 2,
   "metadata": {},
   "outputs": [
    {
     "data": {
      "text/html": [
       "<div>\n",
       "<style scoped>\n",
       "    .dataframe tbody tr th:only-of-type {\n",
       "        vertical-align: middle;\n",
       "    }\n",
       "\n",
       "    .dataframe tbody tr th {\n",
       "        vertical-align: top;\n",
       "    }\n",
       "\n",
       "    .dataframe thead th {\n",
       "        text-align: right;\n",
       "    }\n",
       "</style>\n",
       "<table border=\"1\" class=\"dataframe\">\n",
       "  <thead>\n",
       "    <tr style=\"text-align: right;\">\n",
       "      <th></th>\n",
       "      <th>name</th>\n",
       "      <th>pic</th>\n",
       "      <th>path</th>\n",
       "    </tr>\n",
       "  </thead>\n",
       "  <tbody>\n",
       "    <tr>\n",
       "      <th>0</th>\n",
       "      <td>Abel_Pacheco</td>\n",
       "      <td>0001</td>\n",
       "      <td>dataset/lfw_funneled/Abel_Pacheco/Abel_Pacheco...</td>\n",
       "    </tr>\n",
       "    <tr>\n",
       "      <th>1</th>\n",
       "      <td>Abel_Pacheco</td>\n",
       "      <td>0004</td>\n",
       "      <td>dataset/lfw_funneled/Abel_Pacheco/Abel_Pacheco...</td>\n",
       "    </tr>\n",
       "    <tr>\n",
       "      <th>2</th>\n",
       "      <td>Akhmed_Zakayev</td>\n",
       "      <td>0001</td>\n",
       "      <td>dataset/lfw_funneled/Akhmed_Zakayev/Akhmed_Zak...</td>\n",
       "    </tr>\n",
       "    <tr>\n",
       "      <th>3</th>\n",
       "      <td>Akhmed_Zakayev</td>\n",
       "      <td>0002</td>\n",
       "      <td>dataset/lfw_funneled/Akhmed_Zakayev/Akhmed_Zak...</td>\n",
       "    </tr>\n",
       "    <tr>\n",
       "      <th>4</th>\n",
       "      <td>Akhmed_Zakayev</td>\n",
       "      <td>0003</td>\n",
       "      <td>dataset/lfw_funneled/Akhmed_Zakayev/Akhmed_Zak...</td>\n",
       "    </tr>\n",
       "  </tbody>\n",
       "</table>\n",
       "</div>"
      ],
      "text/plain": [
       "             name   pic                                               path\n",
       "0    Abel_Pacheco  0001  dataset/lfw_funneled/Abel_Pacheco/Abel_Pacheco...\n",
       "1    Abel_Pacheco  0004  dataset/lfw_funneled/Abel_Pacheco/Abel_Pacheco...\n",
       "2  Akhmed_Zakayev  0001  dataset/lfw_funneled/Akhmed_Zakayev/Akhmed_Zak...\n",
       "3  Akhmed_Zakayev  0002  dataset/lfw_funneled/Akhmed_Zakayev/Akhmed_Zak...\n",
       "4  Akhmed_Zakayev  0003  dataset/lfw_funneled/Akhmed_Zakayev/Akhmed_Zak..."
      ]
     },
     "execution_count": 2,
     "metadata": {},
     "output_type": "execute_result"
    }
   ],
   "source": [
    "path = 'dataset/lfw_funneled'\n",
    "\n",
    "pairs = ''\n",
    "with open(f'{path}/pairs.txt', 'r') as file:\n",
    "    pairs = file.read()\n",
    "\n",
    "df = pd.DataFrame(list(map(lambda x: x.split('\\t'), pairs.split('\\n')[1:301])), columns=['name', 'pic1', 'pic2'])\n",
    "df = (pd.melt(df, id_vars='name', value_vars=['pic1', 'pic2'], var_name='picNum', value_name='pic')\n",
    "        .drop('picNum', axis=1)\n",
    "        .sort_values(by=['name', 'pic'])\n",
    "        .drop_duplicates()\n",
    "        .reset_index(drop=True))\n",
    "\n",
    "df['pic'] = df['pic'].apply(lambda x: x.zfill(4))\n",
    "df['path'] = str(path) + '/' + df['name'] + '/' + df['name'] + '_' + df['pic'] + '.jpg'\n",
    "\n",
    "df.to_csv('pairs.csv')\n",
    "df.head()"
   ]
  },
  {
   "cell_type": "code",
   "execution_count": 3,
   "metadata": {},
   "outputs": [
    {
     "name": "stdout",
     "output_type": "stream",
     "text": [
      "There are 500 unique pics to be scaled\n"
     ]
    }
   ],
   "source": [
    "pics_to_scale_path = df['path'].values\n",
    "pics_to_scale = list(map(lambda x: x.split('/')[-1][:-4]+ '_result.jpg', pics_to_scale_path))\n",
    "print(f'There are {len(pics_to_scale)} unique pics to be scaled')"
   ]
  },
  {
   "cell_type": "markdown",
   "metadata": {},
   "source": [
    "# Scaling"
   ]
  },
  {
   "cell_type": "code",
   "execution_count": null,
   "metadata": {},
   "outputs": [],
   "source": [
    "# Тут надо самому ставить нужный скейл: 2 3 или 4. Так как \n",
    "scaled_pics = os.listdir('dataset/output')\n",
    "for pic, pic_path in zip(pics_to_scale, pics_to_scale_path):\n",
    "    if pic in scaled_pics:\n",
    "        continue\n",
    "    abc = f'--file={pic_path} --scale=4'\n",
    "    %run sr.py {abc}"
   ]
  },
  {
   "cell_type": "code",
   "execution_count": 8,
   "metadata": {},
   "outputs": [
    {
     "data": {
      "text/html": [
       "<div>\n",
       "<style scoped>\n",
       "    .dataframe tbody tr th:only-of-type {\n",
       "        vertical-align: middle;\n",
       "    }\n",
       "\n",
       "    .dataframe tbody tr th {\n",
       "        vertical-align: top;\n",
       "    }\n",
       "\n",
       "    .dataframe thead th {\n",
       "        text-align: right;\n",
       "    }\n",
       "</style>\n",
       "<table border=\"1\" class=\"dataframe\">\n",
       "  <thead>\n",
       "    <tr style=\"text-align: right;\">\n",
       "      <th></th>\n",
       "      <th>name</th>\n",
       "      <th>pic</th>\n",
       "      <th>path</th>\n",
       "      <th>path_x2</th>\n",
       "      <th>path_x3</th>\n",
       "      <th>path_x4</th>\n",
       "    </tr>\n",
       "  </thead>\n",
       "  <tbody>\n",
       "    <tr>\n",
       "      <th>0</th>\n",
       "      <td>Abel_Pacheco</td>\n",
       "      <td>0001</td>\n",
       "      <td>dataset/lfw_funneled/Abel_Pacheco/Abel_Pacheco...</td>\n",
       "      <td>dataset/output_x2/Abel_Pacheco_0001_result.jpg</td>\n",
       "      <td>dataset/output_x3/Abel_Pacheco_0001_result.jpg</td>\n",
       "      <td>dataset/output_x4/Abel_Pacheco_0001_result.jpg</td>\n",
       "    </tr>\n",
       "    <tr>\n",
       "      <th>1</th>\n",
       "      <td>Abel_Pacheco</td>\n",
       "      <td>0004</td>\n",
       "      <td>dataset/lfw_funneled/Abel_Pacheco/Abel_Pacheco...</td>\n",
       "      <td>dataset/output_x2/Abel_Pacheco_0004_result.jpg</td>\n",
       "      <td>dataset/output_x3/Abel_Pacheco_0004_result.jpg</td>\n",
       "      <td>dataset/output_x4/Abel_Pacheco_0004_result.jpg</td>\n",
       "    </tr>\n",
       "    <tr>\n",
       "      <th>2</th>\n",
       "      <td>Akhmed_Zakayev</td>\n",
       "      <td>0001</td>\n",
       "      <td>dataset/lfw_funneled/Akhmed_Zakayev/Akhmed_Zak...</td>\n",
       "      <td>dataset/output_x2/Akhmed_Zakayev_0001_result.jpg</td>\n",
       "      <td>dataset/output_x3/Akhmed_Zakayev_0001_result.jpg</td>\n",
       "      <td>dataset/output_x4/Akhmed_Zakayev_0001_result.jpg</td>\n",
       "    </tr>\n",
       "    <tr>\n",
       "      <th>3</th>\n",
       "      <td>Akhmed_Zakayev</td>\n",
       "      <td>0002</td>\n",
       "      <td>dataset/lfw_funneled/Akhmed_Zakayev/Akhmed_Zak...</td>\n",
       "      <td>dataset/output_x2/Akhmed_Zakayev_0002_result.jpg</td>\n",
       "      <td>dataset/output_x3/Akhmed_Zakayev_0002_result.jpg</td>\n",
       "      <td>dataset/output_x4/Akhmed_Zakayev_0002_result.jpg</td>\n",
       "    </tr>\n",
       "    <tr>\n",
       "      <th>4</th>\n",
       "      <td>Akhmed_Zakayev</td>\n",
       "      <td>0003</td>\n",
       "      <td>dataset/lfw_funneled/Akhmed_Zakayev/Akhmed_Zak...</td>\n",
       "      <td>dataset/output_x2/Akhmed_Zakayev_0003_result.jpg</td>\n",
       "      <td>dataset/output_x3/Akhmed_Zakayev_0003_result.jpg</td>\n",
       "      <td>dataset/output_x4/Akhmed_Zakayev_0003_result.jpg</td>\n",
       "    </tr>\n",
       "  </tbody>\n",
       "</table>\n",
       "</div>"
      ],
      "text/plain": [
       "             name   pic                                               path  \\\n",
       "0    Abel_Pacheco  0001  dataset/lfw_funneled/Abel_Pacheco/Abel_Pacheco...   \n",
       "1    Abel_Pacheco  0004  dataset/lfw_funneled/Abel_Pacheco/Abel_Pacheco...   \n",
       "2  Akhmed_Zakayev  0001  dataset/lfw_funneled/Akhmed_Zakayev/Akhmed_Zak...   \n",
       "3  Akhmed_Zakayev  0002  dataset/lfw_funneled/Akhmed_Zakayev/Akhmed_Zak...   \n",
       "4  Akhmed_Zakayev  0003  dataset/lfw_funneled/Akhmed_Zakayev/Akhmed_Zak...   \n",
       "\n",
       "                                            path_x2  \\\n",
       "0    dataset/output_x2/Abel_Pacheco_0001_result.jpg   \n",
       "1    dataset/output_x2/Abel_Pacheco_0004_result.jpg   \n",
       "2  dataset/output_x2/Akhmed_Zakayev_0001_result.jpg   \n",
       "3  dataset/output_x2/Akhmed_Zakayev_0002_result.jpg   \n",
       "4  dataset/output_x2/Akhmed_Zakayev_0003_result.jpg   \n",
       "\n",
       "                                            path_x3  \\\n",
       "0    dataset/output_x3/Abel_Pacheco_0001_result.jpg   \n",
       "1    dataset/output_x3/Abel_Pacheco_0004_result.jpg   \n",
       "2  dataset/output_x3/Akhmed_Zakayev_0001_result.jpg   \n",
       "3  dataset/output_x3/Akhmed_Zakayev_0002_result.jpg   \n",
       "4  dataset/output_x3/Akhmed_Zakayev_0003_result.jpg   \n",
       "\n",
       "                                            path_x4  \n",
       "0    dataset/output_x4/Abel_Pacheco_0001_result.jpg  \n",
       "1    dataset/output_x4/Abel_Pacheco_0004_result.jpg  \n",
       "2  dataset/output_x4/Akhmed_Zakayev_0001_result.jpg  \n",
       "3  dataset/output_x4/Akhmed_Zakayev_0002_result.jpg  \n",
       "4  dataset/output_x4/Akhmed_Zakayev_0003_result.jpg  "
      ]
     },
     "execution_count": 8,
     "metadata": {},
     "output_type": "execute_result"
    }
   ],
   "source": [
    "for scale in [2, 3, 4]:\n",
    "    df[f'path_x{scale}'] = f'dataset/output_x{scale}/' + df[f'path'].apply(lambda x: x.split('/')[-1][:-4]) + '_result.jpg'\n",
    "df.head()"
   ]
  },
  {
   "cell_type": "code",
   "execution_count": null,
   "metadata": {},
   "outputs": [],
   "source": []
  }
 ],
 "metadata": {
  "kernelspec": {
   "display_name": "Python 3",
   "language": "python",
   "name": "python3"
  },
  "language_info": {
   "codemirror_mode": {
    "name": "ipython",
    "version": 3
   },
   "file_extension": ".py",
   "mimetype": "text/x-python",
   "name": "python",
   "nbconvert_exporter": "python",
   "pygments_lexer": "ipython3",
   "version": "3.6.5"
  }
 },
 "nbformat": 4,
 "nbformat_minor": 2
}
