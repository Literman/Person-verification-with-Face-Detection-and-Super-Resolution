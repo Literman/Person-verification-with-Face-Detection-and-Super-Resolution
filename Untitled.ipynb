{
 "cells": [
  {
   "cell_type": "code",
   "execution_count": 49,
   "metadata": {},
   "outputs": [],
   "source": [
    "import os \n",
    "import pandas as pd"
   ]
  },
  {
   "cell_type": "code",
   "execution_count": 74,
   "metadata": {},
   "outputs": [],
   "source": [
    "pairs = ''\n",
    "with open('dataset/lfw_funneled/pairs.txt', 'r') as file:\n",
    "    pairs = file.read()"
   ]
  },
  {
   "cell_type": "code",
   "execution_count": 75,
   "metadata": {},
   "outputs": [
    {
     "data": {
      "text/html": [
       "<div>\n",
       "<style scoped>\n",
       "    .dataframe tbody tr th:only-of-type {\n",
       "        vertical-align: middle;\n",
       "    }\n",
       "\n",
       "    .dataframe tbody tr th {\n",
       "        vertical-align: top;\n",
       "    }\n",
       "\n",
       "    .dataframe thead th {\n",
       "        text-align: right;\n",
       "    }\n",
       "</style>\n",
       "<table border=\"1\" class=\"dataframe\">\n",
       "  <thead>\n",
       "    <tr style=\"text-align: right;\">\n",
       "      <th></th>\n",
       "      <th>name</th>\n",
       "      <th>pic1</th>\n",
       "      <th>pic2</th>\n",
       "    </tr>\n",
       "  </thead>\n",
       "  <tbody>\n",
       "    <tr>\n",
       "      <th>0</th>\n",
       "      <td>Abel_Pacheco</td>\n",
       "      <td>1</td>\n",
       "      <td>4</td>\n",
       "    </tr>\n",
       "    <tr>\n",
       "      <th>1</th>\n",
       "      <td>Akhmed_Zakayev</td>\n",
       "      <td>1</td>\n",
       "      <td>3</td>\n",
       "    </tr>\n",
       "    <tr>\n",
       "      <th>2</th>\n",
       "      <td>Akhmed_Zakayev</td>\n",
       "      <td>2</td>\n",
       "      <td>3</td>\n",
       "    </tr>\n",
       "    <tr>\n",
       "      <th>3</th>\n",
       "      <td>Amber_Tamblyn</td>\n",
       "      <td>1</td>\n",
       "      <td>2</td>\n",
       "    </tr>\n",
       "    <tr>\n",
       "      <th>4</th>\n",
       "      <td>Anders_Fogh_Rasmussen</td>\n",
       "      <td>1</td>\n",
       "      <td>3</td>\n",
       "    </tr>\n",
       "  </tbody>\n",
       "</table>\n",
       "</div>"
      ],
      "text/plain": [
       "                    name pic1 pic2\n",
       "0           Abel_Pacheco    1    4\n",
       "1         Akhmed_Zakayev    1    3\n",
       "2         Akhmed_Zakayev    2    3\n",
       "3          Amber_Tamblyn    1    2\n",
       "4  Anders_Fogh_Rasmussen    1    3"
      ]
     },
     "execution_count": 75,
     "metadata": {},
     "output_type": "execute_result"
    }
   ],
   "source": [
    "df = pd.DataFrame(list(map(lambda x: x.split('\\t'), temp.split('\\n')[1:301])), columns=['name', 'pic1', 'pic2'])\n",
    "df.head()"
   ]
  },
  {
   "cell_type": "code",
   "execution_count": 76,
   "metadata": {},
   "outputs": [],
   "source": [
    "for i in [1, 2]:\n",
    "    df[f'pic{i}'] = df[f'pic{i}'].apply(lambda x: x.zfill(4))\n",
    "    df[f'path{i}'] = 'dataset/lfw_funneled/' + df['name'] + '/' + df['name'] + '_' + df[f'pic{i}'] + '.jpg'"
   ]
  },
  {
   "cell_type": "code",
   "execution_count": 77,
   "metadata": {},
   "outputs": [
    {
     "data": {
      "text/html": [
       "<div>\n",
       "<style scoped>\n",
       "    .dataframe tbody tr th:only-of-type {\n",
       "        vertical-align: middle;\n",
       "    }\n",
       "\n",
       "    .dataframe tbody tr th {\n",
       "        vertical-align: top;\n",
       "    }\n",
       "\n",
       "    .dataframe thead th {\n",
       "        text-align: right;\n",
       "    }\n",
       "</style>\n",
       "<table border=\"1\" class=\"dataframe\">\n",
       "  <thead>\n",
       "    <tr style=\"text-align: right;\">\n",
       "      <th></th>\n",
       "      <th>name</th>\n",
       "      <th>pic1</th>\n",
       "      <th>pic2</th>\n",
       "      <th>path1</th>\n",
       "      <th>path2</th>\n",
       "    </tr>\n",
       "  </thead>\n",
       "  <tbody>\n",
       "    <tr>\n",
       "      <th>0</th>\n",
       "      <td>Abel_Pacheco</td>\n",
       "      <td>0001</td>\n",
       "      <td>0004</td>\n",
       "      <td>dataset/lfw_funneled/Abel_Pacheco/Abel_Pacheco...</td>\n",
       "      <td>dataset/lfw_funneled/Abel_Pacheco/Abel_Pacheco...</td>\n",
       "    </tr>\n",
       "    <tr>\n",
       "      <th>1</th>\n",
       "      <td>Akhmed_Zakayev</td>\n",
       "      <td>0001</td>\n",
       "      <td>0003</td>\n",
       "      <td>dataset/lfw_funneled/Akhmed_Zakayev/Akhmed_Zak...</td>\n",
       "      <td>dataset/lfw_funneled/Akhmed_Zakayev/Akhmed_Zak...</td>\n",
       "    </tr>\n",
       "    <tr>\n",
       "      <th>2</th>\n",
       "      <td>Akhmed_Zakayev</td>\n",
       "      <td>0002</td>\n",
       "      <td>0003</td>\n",
       "      <td>dataset/lfw_funneled/Akhmed_Zakayev/Akhmed_Zak...</td>\n",
       "      <td>dataset/lfw_funneled/Akhmed_Zakayev/Akhmed_Zak...</td>\n",
       "    </tr>\n",
       "    <tr>\n",
       "      <th>3</th>\n",
       "      <td>Amber_Tamblyn</td>\n",
       "      <td>0001</td>\n",
       "      <td>0002</td>\n",
       "      <td>dataset/lfw_funneled/Amber_Tamblyn/Amber_Tambl...</td>\n",
       "      <td>dataset/lfw_funneled/Amber_Tamblyn/Amber_Tambl...</td>\n",
       "    </tr>\n",
       "    <tr>\n",
       "      <th>4</th>\n",
       "      <td>Anders_Fogh_Rasmussen</td>\n",
       "      <td>0001</td>\n",
       "      <td>0003</td>\n",
       "      <td>dataset/lfw_funneled/Anders_Fogh_Rasmussen/And...</td>\n",
       "      <td>dataset/lfw_funneled/Anders_Fogh_Rasmussen/And...</td>\n",
       "    </tr>\n",
       "  </tbody>\n",
       "</table>\n",
       "</div>"
      ],
      "text/plain": [
       "                    name  pic1  pic2  \\\n",
       "0           Abel_Pacheco  0001  0004   \n",
       "1         Akhmed_Zakayev  0001  0003   \n",
       "2         Akhmed_Zakayev  0002  0003   \n",
       "3          Amber_Tamblyn  0001  0002   \n",
       "4  Anders_Fogh_Rasmussen  0001  0003   \n",
       "\n",
       "                                               path1  \\\n",
       "0  dataset/lfw_funneled/Abel_Pacheco/Abel_Pacheco...   \n",
       "1  dataset/lfw_funneled/Akhmed_Zakayev/Akhmed_Zak...   \n",
       "2  dataset/lfw_funneled/Akhmed_Zakayev/Akhmed_Zak...   \n",
       "3  dataset/lfw_funneled/Amber_Tamblyn/Amber_Tambl...   \n",
       "4  dataset/lfw_funneled/Anders_Fogh_Rasmussen/And...   \n",
       "\n",
       "                                               path2  \n",
       "0  dataset/lfw_funneled/Abel_Pacheco/Abel_Pacheco...  \n",
       "1  dataset/lfw_funneled/Akhmed_Zakayev/Akhmed_Zak...  \n",
       "2  dataset/lfw_funneled/Akhmed_Zakayev/Akhmed_Zak...  \n",
       "3  dataset/lfw_funneled/Amber_Tamblyn/Amber_Tambl...  \n",
       "4  dataset/lfw_funneled/Anders_Fogh_Rasmussen/And...  "
      ]
     },
     "execution_count": 77,
     "metadata": {},
     "output_type": "execute_result"
    }
   ],
   "source": [
    "df.head()"
   ]
  },
  {
   "cell_type": "code",
   "execution_count": 81,
   "metadata": {},
   "outputs": [],
   "source": [
    "df.to_csv('pairs.csv')"
   ]
  },
  {
   "cell_type": "markdown",
   "metadata": {},
   "source": [
    "# ГОВНОЦИКЛЫ"
   ]
  },
  {
   "cell_type": "code",
   "execution_count": 83,
   "metadata": {},
   "outputs": [],
   "source": [
    "from recognizer import Recognizer\n",
    "from skimage.io import imread\n",
    "\n",
    "THRESHOLD = 0.9"
   ]
  },
  {
   "cell_type": "code",
   "execution_count": 85,
   "metadata": {},
   "outputs": [
    {
     "data": {
      "text/html": [
       "<div>\n",
       "<style scoped>\n",
       "    .dataframe tbody tr th:only-of-type {\n",
       "        vertical-align: middle;\n",
       "    }\n",
       "\n",
       "    .dataframe tbody tr th {\n",
       "        vertical-align: top;\n",
       "    }\n",
       "\n",
       "    .dataframe thead th {\n",
       "        text-align: right;\n",
       "    }\n",
       "</style>\n",
       "<table border=\"1\" class=\"dataframe\">\n",
       "  <thead>\n",
       "    <tr style=\"text-align: right;\">\n",
       "      <th></th>\n",
       "      <th>name</th>\n",
       "      <th>pic1</th>\n",
       "      <th>pic2</th>\n",
       "      <th>path1</th>\n",
       "      <th>path2</th>\n",
       "    </tr>\n",
       "  </thead>\n",
       "  <tbody>\n",
       "    <tr>\n",
       "      <th>0</th>\n",
       "      <td>Abel_Pacheco</td>\n",
       "      <td>1</td>\n",
       "      <td>4</td>\n",
       "      <td>dataset/lfw_funneled/Abel_Pacheco/Abel_Pacheco...</td>\n",
       "      <td>dataset/lfw_funneled/Abel_Pacheco/Abel_Pacheco...</td>\n",
       "    </tr>\n",
       "    <tr>\n",
       "      <th>1</th>\n",
       "      <td>Akhmed_Zakayev</td>\n",
       "      <td>1</td>\n",
       "      <td>3</td>\n",
       "      <td>dataset/lfw_funneled/Akhmed_Zakayev/Akhmed_Zak...</td>\n",
       "      <td>dataset/lfw_funneled/Akhmed_Zakayev/Akhmed_Zak...</td>\n",
       "    </tr>\n",
       "    <tr>\n",
       "      <th>2</th>\n",
       "      <td>Akhmed_Zakayev</td>\n",
       "      <td>2</td>\n",
       "      <td>3</td>\n",
       "      <td>dataset/lfw_funneled/Akhmed_Zakayev/Akhmed_Zak...</td>\n",
       "      <td>dataset/lfw_funneled/Akhmed_Zakayev/Akhmed_Zak...</td>\n",
       "    </tr>\n",
       "    <tr>\n",
       "      <th>3</th>\n",
       "      <td>Amber_Tamblyn</td>\n",
       "      <td>1</td>\n",
       "      <td>2</td>\n",
       "      <td>dataset/lfw_funneled/Amber_Tamblyn/Amber_Tambl...</td>\n",
       "      <td>dataset/lfw_funneled/Amber_Tamblyn/Amber_Tambl...</td>\n",
       "    </tr>\n",
       "    <tr>\n",
       "      <th>4</th>\n",
       "      <td>Anders_Fogh_Rasmussen</td>\n",
       "      <td>1</td>\n",
       "      <td>3</td>\n",
       "      <td>dataset/lfw_funneled/Anders_Fogh_Rasmussen/And...</td>\n",
       "      <td>dataset/lfw_funneled/Anders_Fogh_Rasmussen/And...</td>\n",
       "    </tr>\n",
       "  </tbody>\n",
       "</table>\n",
       "</div>"
      ],
      "text/plain": [
       "                    name  pic1  pic2  \\\n",
       "0           Abel_Pacheco     1     4   \n",
       "1         Akhmed_Zakayev     1     3   \n",
       "2         Akhmed_Zakayev     2     3   \n",
       "3          Amber_Tamblyn     1     2   \n",
       "4  Anders_Fogh_Rasmussen     1     3   \n",
       "\n",
       "                                               path1  \\\n",
       "0  dataset/lfw_funneled/Abel_Pacheco/Abel_Pacheco...   \n",
       "1  dataset/lfw_funneled/Akhmed_Zakayev/Akhmed_Zak...   \n",
       "2  dataset/lfw_funneled/Akhmed_Zakayev/Akhmed_Zak...   \n",
       "3  dataset/lfw_funneled/Amber_Tamblyn/Amber_Tambl...   \n",
       "4  dataset/lfw_funneled/Anders_Fogh_Rasmussen/And...   \n",
       "\n",
       "                                               path2  \n",
       "0  dataset/lfw_funneled/Abel_Pacheco/Abel_Pacheco...  \n",
       "1  dataset/lfw_funneled/Akhmed_Zakayev/Akhmed_Zak...  \n",
       "2  dataset/lfw_funneled/Akhmed_Zakayev/Akhmed_Zak...  \n",
       "3  dataset/lfw_funneled/Amber_Tamblyn/Amber_Tambl...  \n",
       "4  dataset/lfw_funneled/Anders_Fogh_Rasmussen/And...  "
      ]
     },
     "execution_count": 85,
     "metadata": {},
     "output_type": "execute_result"
    }
   ],
   "source": [
    "df = pd.read_csv('pairs.csv', index_col=0)\n",
    "df.head()"
   ]
  },
  {
   "cell_type": "code",
   "execution_count": null,
   "metadata": {},
   "outputs": [],
   "source": []
  }
 ],
 "metadata": {
  "kernelspec": {
   "display_name": "Python 3",
   "language": "python",
   "name": "python3"
  },
  "language_info": {
   "codemirror_mode": {
    "name": "ipython",
    "version": 3
   },
   "file_extension": ".py",
   "mimetype": "text/x-python",
   "name": "python",
   "nbconvert_exporter": "python",
   "pygments_lexer": "ipython3",
   "version": "3.6.5"
  }
 },
 "nbformat": 4,
 "nbformat_minor": 2
}
