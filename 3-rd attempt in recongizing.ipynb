{
 "cells": [
  {
   "cell_type": "code",
   "execution_count": 22,
   "metadata": {},
   "outputs": [],
   "source": [
    "import pandas as pd\n",
    "import numpy as np\n",
    "\n",
    "from sklearn.metrics import accuracy_score, roc_auc_score, precision_score, recall_score, confusion_matrix, f1_score\n",
    "\n",
    "import sys\n",
    "import os \n",
    "from datetime import datetime\n",
    "import random as rnd\n",
    "import itertools as it\n",
    "#--------------------------------------------------------------------------------------------------------------------------\n",
    "from RECOGNIZER.recognizer import Recognizer\n",
    "from skimage.io import imread\n",
    "#--------------------------------------------------------------------------------------------------------------------------\n",
    "import warnings\n",
    "warnings.filterwarnings('ignore')"
   ]
  },
  {
   "cell_type": "code",
   "execution_count": 2,
   "metadata": {},
   "outputs": [],
   "source": [
    "def get_basename(path): # dataset/lfw_funneled/Abel_Pacheco/Abel_Pacheco_0001.JPG -> Abel_Pacheco_0001\n",
    "    return os.path.splitext(os.path.basename(path))[0]"
   ]
  },
  {
   "cell_type": "markdown",
   "metadata": {},
   "source": [
    "# Making unique pic pathes DF"
   ]
  },
  {
   "cell_type": "code",
   "execution_count": null,
   "metadata": {},
   "outputs": [],
   "source": [
    "dataset_path = 'dataset/'\n",
    "\n",
    "pairs = ''\n",
    "with open(f'{dataset_path}pairs.txt', 'r') as file:\n",
    "    pairs = file.read()\n",
    "\n",
    "df = pd.DataFrame(list(map(lambda x: x.split('\\t'), pairs.split('\\n')[1:301])), columns=['name', 'pic1', 'pic2'])\n",
    "df = (pd.melt(df, id_vars='name', value_vars=['pic1', 'pic2'], var_name='picNum', value_name='pic')\n",
    "        .drop('picNum', axis=1)\n",
    "        .sort_values(by=['name', 'pic'])\n",
    "        .drop_duplicates()\n",
    "        .reset_index(drop=True))\n",
    "\n",
    "df['pic'] = df['pic'].apply(lambda x: x.zfill(4))\n",
    "df['path_x1'] = str(dataset_path) + df['name'] + '/' + df['name'] + '_' + df['pic'] + '.jpg'\n",
    "\n",
    "df.to_csv('pics_df.csv')\n",
    "df.head()"
   ]
  },
  {
   "cell_type": "code",
   "execution_count": null,
   "metadata": {},
   "outputs": [],
   "source": [
    "pics_to_scale_path = df['path_x1'].values\n",
    "pics_to_scale = list(map(lambda x: get_basename(x) + '_result.jpg', pics_to_scale_path))\n",
    "print(f'There are {len(pics_to_scale)} unique pics to be scaled')"
   ]
  },
  {
   "cell_type": "markdown",
   "metadata": {},
   "source": [
    "# Make stable classification DF"
   ]
  },
  {
   "cell_type": "code",
   "execution_count": null,
   "metadata": {},
   "outputs": [],
   "source": [
    "sim_people_pics = []\n",
    "for name, name_df in df[['name', 'pic']].groupby('name'):\n",
    "    pics = name_df['pic'].values\n",
    "    pics_comb = list(it.combinations(pics, 2))\n",
    "    pics_name_comb = list(map(lambda x: [name]+[x[0]]+[name]+[x[1]], pics_comb))\n",
    "    for comb in pics_name_comb:\n",
    "        sim_people_pics.append(comb+[1])\n",
    "\n",
    "non_sim_people_pics = [el for el in it.combinations(df[['name', 'pic']].values.tolist(), 2) if el[0][0] != el[1][0]]\n",
    "non_sim_people_pics = [el[0]+el[1]+[0] for el in non_sim_people_pics]\n",
    "non_sim_people_pics = rnd.sample(non_sim_people_pics, len(sim_people_pics))\n",
    "\n",
    "classification_df = pd.DataFrame(sim_people_pics+non_sim_people_pics, \n",
    "                                 columns=['name1', 'pic1', 'name2', 'pic2', 'similarity'])\n",
    "\n",
    "classification_df.to_csv('classification_df.csv')\n",
    "classification_df.iloc[[0, 1, 2, -3, -2, -1], :]"
   ]
  },
  {
   "cell_type": "markdown",
   "metadata": {},
   "source": [
    "# Add up-scale pic pathes to DF"
   ]
  },
  {
   "cell_type": "code",
   "execution_count": 3,
   "metadata": {},
   "outputs": [
    {
     "data": {
      "text/html": [
       "<div>\n",
       "<style scoped>\n",
       "    .dataframe tbody tr th:only-of-type {\n",
       "        vertical-align: middle;\n",
       "    }\n",
       "\n",
       "    .dataframe tbody tr th {\n",
       "        vertical-align: top;\n",
       "    }\n",
       "\n",
       "    .dataframe thead th {\n",
       "        text-align: right;\n",
       "    }\n",
       "</style>\n",
       "<table border=\"1\" class=\"dataframe\">\n",
       "  <thead>\n",
       "    <tr style=\"text-align: right;\">\n",
       "      <th></th>\n",
       "      <th>name1</th>\n",
       "      <th>pic1</th>\n",
       "      <th>name2</th>\n",
       "      <th>pic2</th>\n",
       "      <th>similarity</th>\n",
       "    </tr>\n",
       "  </thead>\n",
       "  <tbody>\n",
       "    <tr>\n",
       "      <th>0</th>\n",
       "      <td>Abel_Pacheco</td>\n",
       "      <td>1</td>\n",
       "      <td>Abel_Pacheco</td>\n",
       "      <td>4</td>\n",
       "      <td>1</td>\n",
       "    </tr>\n",
       "    <tr>\n",
       "      <th>1</th>\n",
       "      <td>Akhmed_Zakayev</td>\n",
       "      <td>1</td>\n",
       "      <td>Akhmed_Zakayev</td>\n",
       "      <td>2</td>\n",
       "      <td>1</td>\n",
       "    </tr>\n",
       "    <tr>\n",
       "      <th>2</th>\n",
       "      <td>Akhmed_Zakayev</td>\n",
       "      <td>1</td>\n",
       "      <td>Akhmed_Zakayev</td>\n",
       "      <td>3</td>\n",
       "      <td>1</td>\n",
       "    </tr>\n",
       "    <tr>\n",
       "      <th>1665</th>\n",
       "      <td>Jeremy_Greenstock</td>\n",
       "      <td>22</td>\n",
       "      <td>John_McCain</td>\n",
       "      <td>6</td>\n",
       "      <td>0</td>\n",
       "    </tr>\n",
       "    <tr>\n",
       "      <th>1666</th>\n",
       "      <td>Lisa_Gottsegen</td>\n",
       "      <td>2</td>\n",
       "      <td>Paul_Bremer</td>\n",
       "      <td>7</td>\n",
       "      <td>0</td>\n",
       "    </tr>\n",
       "    <tr>\n",
       "      <th>1667</th>\n",
       "      <td>Jacques_Rogge</td>\n",
       "      <td>8</td>\n",
       "      <td>Patty_Schnyder</td>\n",
       "      <td>1</td>\n",
       "      <td>0</td>\n",
       "    </tr>\n",
       "  </tbody>\n",
       "</table>\n",
       "</div>"
      ],
      "text/plain": [
       "                  name1  pic1           name2  pic2  similarity\n",
       "0          Abel_Pacheco     1    Abel_Pacheco     4           1\n",
       "1        Akhmed_Zakayev     1  Akhmed_Zakayev     2           1\n",
       "2        Akhmed_Zakayev     1  Akhmed_Zakayev     3           1\n",
       "1665  Jeremy_Greenstock    22     John_McCain     6           0\n",
       "1666     Lisa_Gottsegen     2     Paul_Bremer     7           0\n",
       "1667      Jacques_Rogge     8  Patty_Schnyder     1           0"
      ]
     },
     "execution_count": 3,
     "metadata": {},
     "output_type": "execute_result"
    }
   ],
   "source": [
    "scales = [4]\n",
    "model_name = 'ESRGAN'\n",
    "\n",
    "pics_df = pd.read_csv('pics_df.csv', index_col=0)\n",
    "classification_df = pd.read_csv('classification_df.csv', index_col=0)\n",
    "classification_df.iloc[[0, 1, 2, -3, -2, -1], :]"
   ]
  },
  {
   "cell_type": "code",
   "execution_count": 4,
   "metadata": {},
   "outputs": [],
   "source": [
    "def add_pathes(df, scales, model_name): # (df, [2, 3, 4], 'DCSCN')\n",
    "    for scale in scales:\n",
    "        df[f'path_x{scale}'] = f'{model_name}/output_x{scale}/' + df[f'path_x1'].apply(get_basename) + '_result.jpg'\n",
    "    return df\n",
    "\n",
    "def get_pathes(classification_df, df):\n",
    "    for pic_num in [1, 2]:\n",
    "        classification_df = (pd.merge(classification_df, df, \n",
    "                                      left_on=[f'name{pic_num}', f'pic{pic_num}'], right_on=['name', 'pic'], \n",
    "                                      how='left', suffixes=('_1', '_2')))\n",
    "    classification_df.drop(['name_1', 'pic_1', 'name_2', 'pic_2'], axis=1, inplace=True)\n",
    "    return classification_df"
   ]
  },
  {
   "cell_type": "code",
   "execution_count": 5,
   "metadata": {
    "scrolled": true
   },
   "outputs": [
    {
     "data": {
      "text/html": [
       "<div>\n",
       "<style scoped>\n",
       "    .dataframe tbody tr th:only-of-type {\n",
       "        vertical-align: middle;\n",
       "    }\n",
       "\n",
       "    .dataframe tbody tr th {\n",
       "        vertical-align: top;\n",
       "    }\n",
       "\n",
       "    .dataframe thead th {\n",
       "        text-align: right;\n",
       "    }\n",
       "</style>\n",
       "<table border=\"1\" class=\"dataframe\">\n",
       "  <thead>\n",
       "    <tr style=\"text-align: right;\">\n",
       "      <th></th>\n",
       "      <th>name</th>\n",
       "      <th>pic</th>\n",
       "      <th>path_x1</th>\n",
       "      <th>path_x4</th>\n",
       "    </tr>\n",
       "  </thead>\n",
       "  <tbody>\n",
       "    <tr>\n",
       "      <th>0</th>\n",
       "      <td>Abel_Pacheco</td>\n",
       "      <td>1</td>\n",
       "      <td>dataset/Abel_Pacheco/Abel_Pacheco_0001.jpg</td>\n",
       "      <td>ESRGAN/output_x4/Abel_Pacheco_0001_result.jpg</td>\n",
       "    </tr>\n",
       "    <tr>\n",
       "      <th>1</th>\n",
       "      <td>Abel_Pacheco</td>\n",
       "      <td>4</td>\n",
       "      <td>dataset/Abel_Pacheco/Abel_Pacheco_0004.jpg</td>\n",
       "      <td>ESRGAN/output_x4/Abel_Pacheco_0004_result.jpg</td>\n",
       "    </tr>\n",
       "    <tr>\n",
       "      <th>2</th>\n",
       "      <td>Akhmed_Zakayev</td>\n",
       "      <td>1</td>\n",
       "      <td>dataset/Akhmed_Zakayev/Akhmed_Zakayev_0001.jpg</td>\n",
       "      <td>ESRGAN/output_x4/Akhmed_Zakayev_0001_result.jpg</td>\n",
       "    </tr>\n",
       "    <tr>\n",
       "      <th>3</th>\n",
       "      <td>Akhmed_Zakayev</td>\n",
       "      <td>2</td>\n",
       "      <td>dataset/Akhmed_Zakayev/Akhmed_Zakayev_0002.jpg</td>\n",
       "      <td>ESRGAN/output_x4/Akhmed_Zakayev_0002_result.jpg</td>\n",
       "    </tr>\n",
       "    <tr>\n",
       "      <th>4</th>\n",
       "      <td>Akhmed_Zakayev</td>\n",
       "      <td>3</td>\n",
       "      <td>dataset/Akhmed_Zakayev/Akhmed_Zakayev_0003.jpg</td>\n",
       "      <td>ESRGAN/output_x4/Akhmed_Zakayev_0003_result.jpg</td>\n",
       "    </tr>\n",
       "  </tbody>\n",
       "</table>\n",
       "</div>"
      ],
      "text/plain": [
       "             name  pic                                         path_x1  \\\n",
       "0    Abel_Pacheco    1      dataset/Abel_Pacheco/Abel_Pacheco_0001.jpg   \n",
       "1    Abel_Pacheco    4      dataset/Abel_Pacheco/Abel_Pacheco_0004.jpg   \n",
       "2  Akhmed_Zakayev    1  dataset/Akhmed_Zakayev/Akhmed_Zakayev_0001.jpg   \n",
       "3  Akhmed_Zakayev    2  dataset/Akhmed_Zakayev/Akhmed_Zakayev_0002.jpg   \n",
       "4  Akhmed_Zakayev    3  dataset/Akhmed_Zakayev/Akhmed_Zakayev_0003.jpg   \n",
       "\n",
       "                                           path_x4  \n",
       "0    ESRGAN/output_x4/Abel_Pacheco_0001_result.jpg  \n",
       "1    ESRGAN/output_x4/Abel_Pacheco_0004_result.jpg  \n",
       "2  ESRGAN/output_x4/Akhmed_Zakayev_0001_result.jpg  \n",
       "3  ESRGAN/output_x4/Akhmed_Zakayev_0002_result.jpg  \n",
       "4  ESRGAN/output_x4/Akhmed_Zakayev_0003_result.jpg  "
      ]
     },
     "execution_count": 5,
     "metadata": {},
     "output_type": "execute_result"
    }
   ],
   "source": [
    "pics_df = add_pathes(pics_df, scales, model_name)\n",
    "pics_df.head()"
   ]
  },
  {
   "cell_type": "code",
   "execution_count": 6,
   "metadata": {},
   "outputs": [
    {
     "data": {
      "text/html": [
       "<div>\n",
       "<style scoped>\n",
       "    .dataframe tbody tr th:only-of-type {\n",
       "        vertical-align: middle;\n",
       "    }\n",
       "\n",
       "    .dataframe tbody tr th {\n",
       "        vertical-align: top;\n",
       "    }\n",
       "\n",
       "    .dataframe thead th {\n",
       "        text-align: right;\n",
       "    }\n",
       "</style>\n",
       "<table border=\"1\" class=\"dataframe\">\n",
       "  <thead>\n",
       "    <tr style=\"text-align: right;\">\n",
       "      <th></th>\n",
       "      <th>name1</th>\n",
       "      <th>pic1</th>\n",
       "      <th>name2</th>\n",
       "      <th>pic2</th>\n",
       "      <th>similarity</th>\n",
       "      <th>path_x1_1</th>\n",
       "      <th>path_x4_1</th>\n",
       "      <th>path_x1_2</th>\n",
       "      <th>path_x4_2</th>\n",
       "    </tr>\n",
       "  </thead>\n",
       "  <tbody>\n",
       "    <tr>\n",
       "      <th>0</th>\n",
       "      <td>Abel_Pacheco</td>\n",
       "      <td>1</td>\n",
       "      <td>Abel_Pacheco</td>\n",
       "      <td>4</td>\n",
       "      <td>1</td>\n",
       "      <td>dataset/Abel_Pacheco/Abel_Pacheco_0001.jpg</td>\n",
       "      <td>ESRGAN/output_x4/Abel_Pacheco_0001_result.jpg</td>\n",
       "      <td>dataset/Abel_Pacheco/Abel_Pacheco_0004.jpg</td>\n",
       "      <td>ESRGAN/output_x4/Abel_Pacheco_0004_result.jpg</td>\n",
       "    </tr>\n",
       "    <tr>\n",
       "      <th>1</th>\n",
       "      <td>Akhmed_Zakayev</td>\n",
       "      <td>1</td>\n",
       "      <td>Akhmed_Zakayev</td>\n",
       "      <td>2</td>\n",
       "      <td>1</td>\n",
       "      <td>dataset/Akhmed_Zakayev/Akhmed_Zakayev_0001.jpg</td>\n",
       "      <td>ESRGAN/output_x4/Akhmed_Zakayev_0001_result.jpg</td>\n",
       "      <td>dataset/Akhmed_Zakayev/Akhmed_Zakayev_0002.jpg</td>\n",
       "      <td>ESRGAN/output_x4/Akhmed_Zakayev_0002_result.jpg</td>\n",
       "    </tr>\n",
       "    <tr>\n",
       "      <th>2</th>\n",
       "      <td>Akhmed_Zakayev</td>\n",
       "      <td>1</td>\n",
       "      <td>Akhmed_Zakayev</td>\n",
       "      <td>3</td>\n",
       "      <td>1</td>\n",
       "      <td>dataset/Akhmed_Zakayev/Akhmed_Zakayev_0001.jpg</td>\n",
       "      <td>ESRGAN/output_x4/Akhmed_Zakayev_0001_result.jpg</td>\n",
       "      <td>dataset/Akhmed_Zakayev/Akhmed_Zakayev_0003.jpg</td>\n",
       "      <td>ESRGAN/output_x4/Akhmed_Zakayev_0003_result.jpg</td>\n",
       "    </tr>\n",
       "    <tr>\n",
       "      <th>1665</th>\n",
       "      <td>Jeremy_Greenstock</td>\n",
       "      <td>22</td>\n",
       "      <td>John_McCain</td>\n",
       "      <td>6</td>\n",
       "      <td>0</td>\n",
       "      <td>dataset/Jeremy_Greenstock/Jeremy_Greenstock_00...</td>\n",
       "      <td>ESRGAN/output_x4/Jeremy_Greenstock_0022_result...</td>\n",
       "      <td>dataset/John_McCain/John_McCain_0006.jpg</td>\n",
       "      <td>ESRGAN/output_x4/John_McCain_0006_result.jpg</td>\n",
       "    </tr>\n",
       "    <tr>\n",
       "      <th>1666</th>\n",
       "      <td>Lisa_Gottsegen</td>\n",
       "      <td>2</td>\n",
       "      <td>Paul_Bremer</td>\n",
       "      <td>7</td>\n",
       "      <td>0</td>\n",
       "      <td>dataset/Lisa_Gottsegen/Lisa_Gottsegen_0002.jpg</td>\n",
       "      <td>ESRGAN/output_x4/Lisa_Gottsegen_0002_result.jpg</td>\n",
       "      <td>dataset/Paul_Bremer/Paul_Bremer_0007.jpg</td>\n",
       "      <td>ESRGAN/output_x4/Paul_Bremer_0007_result.jpg</td>\n",
       "    </tr>\n",
       "    <tr>\n",
       "      <th>1667</th>\n",
       "      <td>Jacques_Rogge</td>\n",
       "      <td>8</td>\n",
       "      <td>Patty_Schnyder</td>\n",
       "      <td>1</td>\n",
       "      <td>0</td>\n",
       "      <td>dataset/Jacques_Rogge/Jacques_Rogge_0008.jpg</td>\n",
       "      <td>ESRGAN/output_x4/Jacques_Rogge_0008_result.jpg</td>\n",
       "      <td>dataset/Patty_Schnyder/Patty_Schnyder_0001.jpg</td>\n",
       "      <td>ESRGAN/output_x4/Patty_Schnyder_0001_result.jpg</td>\n",
       "    </tr>\n",
       "  </tbody>\n",
       "</table>\n",
       "</div>"
      ],
      "text/plain": [
       "                  name1  pic1           name2  pic2  similarity  \\\n",
       "0          Abel_Pacheco     1    Abel_Pacheco     4           1   \n",
       "1        Akhmed_Zakayev     1  Akhmed_Zakayev     2           1   \n",
       "2        Akhmed_Zakayev     1  Akhmed_Zakayev     3           1   \n",
       "1665  Jeremy_Greenstock    22     John_McCain     6           0   \n",
       "1666     Lisa_Gottsegen     2     Paul_Bremer     7           0   \n",
       "1667      Jacques_Rogge     8  Patty_Schnyder     1           0   \n",
       "\n",
       "                                              path_x1_1  \\\n",
       "0            dataset/Abel_Pacheco/Abel_Pacheco_0001.jpg   \n",
       "1        dataset/Akhmed_Zakayev/Akhmed_Zakayev_0001.jpg   \n",
       "2        dataset/Akhmed_Zakayev/Akhmed_Zakayev_0001.jpg   \n",
       "1665  dataset/Jeremy_Greenstock/Jeremy_Greenstock_00...   \n",
       "1666     dataset/Lisa_Gottsegen/Lisa_Gottsegen_0002.jpg   \n",
       "1667       dataset/Jacques_Rogge/Jacques_Rogge_0008.jpg   \n",
       "\n",
       "                                              path_x4_1  \\\n",
       "0         ESRGAN/output_x4/Abel_Pacheco_0001_result.jpg   \n",
       "1       ESRGAN/output_x4/Akhmed_Zakayev_0001_result.jpg   \n",
       "2       ESRGAN/output_x4/Akhmed_Zakayev_0001_result.jpg   \n",
       "1665  ESRGAN/output_x4/Jeremy_Greenstock_0022_result...   \n",
       "1666    ESRGAN/output_x4/Lisa_Gottsegen_0002_result.jpg   \n",
       "1667     ESRGAN/output_x4/Jacques_Rogge_0008_result.jpg   \n",
       "\n",
       "                                           path_x1_2  \\\n",
       "0         dataset/Abel_Pacheco/Abel_Pacheco_0004.jpg   \n",
       "1     dataset/Akhmed_Zakayev/Akhmed_Zakayev_0002.jpg   \n",
       "2     dataset/Akhmed_Zakayev/Akhmed_Zakayev_0003.jpg   \n",
       "1665        dataset/John_McCain/John_McCain_0006.jpg   \n",
       "1666        dataset/Paul_Bremer/Paul_Bremer_0007.jpg   \n",
       "1667  dataset/Patty_Schnyder/Patty_Schnyder_0001.jpg   \n",
       "\n",
       "                                            path_x4_2  \n",
       "0       ESRGAN/output_x4/Abel_Pacheco_0004_result.jpg  \n",
       "1     ESRGAN/output_x4/Akhmed_Zakayev_0002_result.jpg  \n",
       "2     ESRGAN/output_x4/Akhmed_Zakayev_0003_result.jpg  \n",
       "1665     ESRGAN/output_x4/John_McCain_0006_result.jpg  \n",
       "1666     ESRGAN/output_x4/Paul_Bremer_0007_result.jpg  \n",
       "1667  ESRGAN/output_x4/Patty_Schnyder_0001_result.jpg  "
      ]
     },
     "execution_count": 6,
     "metadata": {},
     "output_type": "execute_result"
    }
   ],
   "source": [
    "classification_df = get_pathes(classification_df, pics_df)\n",
    "classification_df.iloc[[0, 1, 2, -3, -2, -1], :]"
   ]
  },
  {
   "cell_type": "markdown",
   "metadata": {},
   "source": [
    "# Recognition"
   ]
  },
  {
   "cell_type": "code",
   "execution_count": 7,
   "metadata": {},
   "outputs": [],
   "source": [
    "def recognize_pics(classification_df, scales):\n",
    "    initial_time = datetime.now() \n",
    "    print(f'Started at {initial_time}')\n",
    "\n",
    "    recognizer = Recognizer()\n",
    "    THRESHOLD = 0.9\n",
    "    \n",
    "    def recongize(row):\n",
    "        photo1 = imread(row.ix[0])\n",
    "        photo2 = imread(row.ix[1])\n",
    "        similarity = recognizer.get_best_similarity(photo1, photo2)\n",
    "        return 1 if similarity < THRESHOLD else 0\n",
    "\n",
    "    for scale in scales:\n",
    "        start = datetime.now()\n",
    "        print(f'Scale x{scale} started at {start}')\n",
    "        classification_df[f'rec_x{scale}'] = classification_df[[f'path_x{scale}_1', f'path_x{scale}_2']].apply(recongize, axis=1)\n",
    "        print(f'Scale x{scale} is done in {datetime.now() - start}')\n",
    "    print(f'Ended in {datetime.now() - initial_time}')\n",
    "    return classification_df"
   ]
  },
  {
   "cell_type": "code",
   "execution_count": 9,
   "metadata": {},
   "outputs": [
    {
     "name": "stdout",
     "output_type": "stream",
     "text": [
      "Started at 2019-05-05 00:21:36.678274\n",
      "WARNING:tensorflow:From C:\\ProgramData\\Anaconda3\\lib\\site-packages\\tensorflow\\python\\training\\queue_runner_impl.py:391: QueueRunner.__init__ (from tensorflow.python.training.queue_runner_impl) is deprecated and will be removed in a future version.\n",
      "Instructions for updating:\n",
      "To construct input pipelines, use the `tf.data` module.\n",
      "WARNING:tensorflow:From C:\\ProgramData\\Anaconda3\\lib\\site-packages\\tensorflow\\python\\training\\saver.py:1266: checkpoint_exists (from tensorflow.python.training.checkpoint_management) is deprecated and will be removed in a future version.\n",
      "Instructions for updating:\n",
      "Use standard file APIs to check for files with this prefix.\n",
      "INFO:tensorflow:Restoring parameters from RECOGNIZER/facenet_models/facenet/model-20180408-102900.ckpt-90\n",
      "Scale x4 started at 2019-05-05 00:22:00.850208\n",
      "Scale x4 is done in 0:58:48.980167\n",
      "Ended in 0:59:13.152101\n"
     ]
    }
   ],
   "source": [
    "df_result = recognize_pics(classification_df, scales)"
   ]
  },
  {
   "cell_type": "code",
   "execution_count": 29,
   "metadata": {
    "scrolled": true
   },
   "outputs": [
    {
     "data": {
      "text/html": [
       "<div>\n",
       "<style scoped>\n",
       "    .dataframe tbody tr th:only-of-type {\n",
       "        vertical-align: middle;\n",
       "    }\n",
       "\n",
       "    .dataframe tbody tr th {\n",
       "        vertical-align: top;\n",
       "    }\n",
       "\n",
       "    .dataframe thead th {\n",
       "        text-align: right;\n",
       "    }\n",
       "</style>\n",
       "<table border=\"1\" class=\"dataframe\">\n",
       "  <thead>\n",
       "    <tr style=\"text-align: right;\">\n",
       "      <th></th>\n",
       "      <th>similarity</th>\n",
       "      <th>rec_x4</th>\n",
       "    </tr>\n",
       "  </thead>\n",
       "  <tbody>\n",
       "    <tr>\n",
       "      <th>1</th>\n",
       "      <td>50.0</td>\n",
       "      <td>62.95</td>\n",
       "    </tr>\n",
       "    <tr>\n",
       "      <th>0</th>\n",
       "      <td>50.0</td>\n",
       "      <td>37.05</td>\n",
       "    </tr>\n",
       "  </tbody>\n",
       "</table>\n",
       "</div>"
      ],
      "text/plain": [
       "   similarity  rec_x4\n",
       "1        50.0   62.95\n",
       "0        50.0   37.05"
      ]
     },
     "execution_count": 29,
     "metadata": {},
     "output_type": "execute_result"
    }
   ],
   "source": [
    "def counts_pct(col):\n",
    "    return round(col.value_counts(normalize=True) * 100, 2)\n",
    "\n",
    "df_result = df_result[['similarity'] + [f'rec_x{scale}'for scale in scales]]\n",
    "df_result.apply(counts_pct)"
   ]
  },
  {
   "cell_type": "code",
   "execution_count": 38,
   "metadata": {},
   "outputs": [
    {
     "data": {
      "text/plain": [
       "array([[58.63309353, 41.36690647],\n",
       "       [15.4676259 , 84.5323741 ]])"
      ]
     },
     "execution_count": 38,
     "metadata": {},
     "output_type": "execute_result"
    }
   ],
   "source": [
    "confusion_matrix(df_result['similarity'], df_result['rec_x4']) / 834 * 100"
   ]
  },
  {
   "cell_type": "code",
   "execution_count": 45,
   "metadata": {},
   "outputs": [
    {
     "data": {
      "text/plain": [
       "similarity  rec_x4\n",
       "0           0         58.633094\n",
       "            1         41.366906\n",
       "1           1         84.532374\n",
       "            0         15.467626\n",
       "Name: rec_x4, dtype: float64"
      ]
     },
     "execution_count": 45,
     "metadata": {},
     "output_type": "execute_result"
    }
   ],
   "source": [
    "df_result.groupby('similarity')['rec_x4'].value_counts(normalize=True) * 100"
   ]
  },
  {
   "cell_type": "code",
   "execution_count": 42,
   "metadata": {},
   "outputs": [
    {
     "data": {
      "text/plain": [
       "71.58"
      ]
     },
     "execution_count": 42,
     "metadata": {},
     "output_type": "execute_result"
    }
   ],
   "source": [
    "round(accuracy_score(df_result['similarity'], df_result['rec_x4']) * 100, 2)"
   ]
  },
  {
   "cell_type": "code",
   "execution_count": 46,
   "metadata": {},
   "outputs": [],
   "source": [
    "classification_df['rec_x4'] = df_result['rec_x4']"
   ]
  },
  {
   "cell_type": "code",
   "execution_count": 47,
   "metadata": {},
   "outputs": [],
   "source": [
    "classification_df.to_csv('classification_df_ESRGAN.csv')"
   ]
  },
  {
   "cell_type": "code",
   "execution_count": null,
   "metadata": {},
   "outputs": [],
   "source": []
  }
 ],
 "metadata": {
  "kernelspec": {
   "display_name": "Python 3",
   "language": "python",
   "name": "python3"
  },
  "language_info": {
   "codemirror_mode": {
    "name": "ipython",
    "version": 3
   },
   "file_extension": ".py",
   "mimetype": "text/x-python",
   "name": "python",
   "nbconvert_exporter": "python",
   "pygments_lexer": "ipython3",
   "version": "3.6.8"
  }
 },
 "nbformat": 4,
 "nbformat_minor": 2
}
